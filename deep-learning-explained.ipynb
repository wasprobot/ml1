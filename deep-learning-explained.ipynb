{
 "cells": [
  {
   "cell_type": "code",
   "execution_count": 15,
   "metadata": {
    "collapsed": false
   },
   "outputs": [
    {
     "data": {
      "application/javascript": [
       "MathJax.Hub.Config({TeX:{equationNumbers:{autoNumber:\"AMS\"}}});"
      ],
      "text/plain": [
       "<IPython.core.display.Javascript object>"
      ]
     },
     "metadata": {},
     "output_type": "display_data"
    }
   ],
   "source": [
    "%%javascript\n",
    "MathJax.Hub.Config({TeX:{equationNumbers:{autoNumber:\"AMS\"}}});"
   ]
  },
  {
   "cell_type": "markdown",
   "metadata": {},
   "source": [
    "### Basic Equations for each layer"
   ]
  },
  {
   "cell_type": "markdown",
   "metadata": {},
   "source": [
    "$z^{[2]}=XW^{[1]}$"
   ]
  },
  {
   "cell_type": "markdown",
   "metadata": {},
   "source": [
    "$a^{[2]}=f(z^{[2]})$"
   ]
  },
  {
   "cell_type": "markdown",
   "metadata": {
    "collapsed": true
   },
   "source": [
    "$z^{[3]}=a^{[2]}W^{[2]}$"
   ]
  },
  {
   "cell_type": "markdown",
   "metadata": {},
   "source": [
    "$\\hat{y}=f(z^{[3]})$"
   ]
  },
  {
   "cell_type": "markdown",
   "metadata": {},
   "source": [
    "### The Cost Function"
   ]
  },
  {
   "cell_type": "markdown",
   "metadata": {},
   "source": [
    "Assuming $e$ is the error at a given dataset, the Cost Function $J$ can be represented as:\n",
    "\n",
    "$J = \\sum \\dfrac {1} {2}e^{2}$"
   ]
  },
  {
   "cell_type": "markdown",
   "metadata": {},
   "source": [
    "Since $e$ can be defined as the difference of the actual output $y$ and the predicted output $\\hat y$:\n",
    "\n",
    "$J = \\sum \\dfrac {1} {2}(y-\\hat y)^{2}$"
   ]
  },
  {
   "cell_type": "markdown",
   "metadata": {},
   "source": [
    "Expanding for $\\hat y$, using the Basic Equations for each layer:\n",
    "\n",
    "$J = \\sum \\dfrac {1} {2}(y-f(f(XW^{[1]})W^{[2]}))^{2}$"
   ]
  },
  {
   "cell_type": "markdown",
   "metadata": {},
   "source": [
    "### Partial Derivatives"
   ]
  },
  {
   "cell_type": "markdown",
   "metadata": {},
   "source": [
    "We use the notation $dW2=\\frac{\\partial}{\\partial_{W^{[2]}}}J$ to represent the partial derivative of $J$ wrt $W^{[2]}$, i.e., the rate of change in $J$ with a small change in $W^{[2]}$, keeping every other variable constant."
   ]
  },
  {
   "cell_type": "markdown",
   "metadata": {},
   "source": [
    "Using the expanded definition of $J$ above:\n",
    "\n",
    "$dW2=\\frac{\\partial}{\\partial_{W^{[2]}}} \\sum \\frac {1} {2}(y-f(f(XW^{[1]})W^{[2]}))^{2}$"
   ]
  },
  {
   "cell_type": "markdown",
   "metadata": {},
   "source": [
    "$\\Rightarrow dW2=\\sum \\frac{\\partial}{\\partial_{W^{[2]}}} \\frac {1} {2}(y-f(f(XW^{[1]})W^{[2]}))^{2}$"
   ]
  },
  {
   "cell_type": "markdown",
   "metadata": {},
   "source": [
    "$f'\\cdot g\\left(x\\right)$"
   ]
  },
  {
   "cell_type": "code",
   "execution_count": null,
   "metadata": {
    "collapsed": true
   },
   "outputs": [],
   "source": []
  }
 ],
 "metadata": {
  "kernelspec": {
   "display_name": "Python 2",
   "language": "python",
   "name": "python2"
  },
  "language_info": {
   "codemirror_mode": {
    "name": "ipython",
    "version": 2
   },
   "file_extension": ".py",
   "mimetype": "text/x-python",
   "name": "python",
   "nbconvert_exporter": "python",
   "pygments_lexer": "ipython2",
   "version": "2.7.10"
  }
 },
 "nbformat": 4,
 "nbformat_minor": 2
}

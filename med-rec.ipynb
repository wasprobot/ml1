{
 "cells": [
  {
   "cell_type": "code",
   "execution_count": 11,
   "metadata": {
    "collapsed": false
   },
   "outputs": [],
   "source": [
    "import numpy as np\n",
    "import pandas as pd"
   ]
  },
  {
   "cell_type": "code",
   "execution_count": 14,
   "metadata": {
    "collapsed": false
   },
   "outputs": [
    {
     "data": {
      "text/html": [
       "<div>\n",
       "<table border=\"1\" class=\"dataframe\">\n",
       "  <thead>\n",
       "    <tr style=\"text-align: right;\">\n",
       "      <th></th>\n",
       "      <th>Group</th>\n",
       "      <th>Referral_Date</th>\n",
       "      <th>Enrolled_Date</th>\n",
       "      <th>First_in_home_visit</th>\n",
       "      <th>IHV_week</th>\n",
       "      <th>Med_rec_visit_date</th>\n",
       "      <th>CM</th>\n",
       "      <th>referral_source</th>\n",
       "      <th>admit_date</th>\n",
       "      <th>Discharge_Date</th>\n",
       "      <th>...</th>\n",
       "      <th>CV_CHF</th>\n",
       "      <th>DIABETES</th>\n",
       "      <th>RES_COPD</th>\n",
       "      <th>Readmit_MCC</th>\n",
       "      <th>CURRENT_ZIP_CD</th>\n",
       "      <th>ER_Visit_date</th>\n",
       "      <th>PCP_Visit_date</th>\n",
       "      <th>Specialist_Visit_date</th>\n",
       "      <th>Admit_diag_desc</th>\n",
       "      <th>Readmit_diag_desc</th>\n",
       "    </tr>\n",
       "  </thead>\n",
       "  <tbody>\n",
       "    <tr>\n",
       "      <th>0</th>\n",
       "      <td>Intervention</td>\n",
       "      <td>17Jan2017</td>\n",
       "      <td>24Jan2017</td>\n",
       "      <td>01/24/2017</td>\n",
       "      <td>01/21/2017</td>\n",
       "      <td>01/24/2017</td>\n",
       "      <td>FAIRBANKS KATHERINE</td>\n",
       "      <td>Automated</td>\n",
       "      <td>12/16/2016</td>\n",
       "      <td>01/13/2017</td>\n",
       "      <td>...</td>\n",
       "      <td>1.0</td>\n",
       "      <td>1.0</td>\n",
       "      <td>0.0</td>\n",
       "      <td>RESPIRATORY</td>\n",
       "      <td>53402.0</td>\n",
       "      <td>NaN</td>\n",
       "      <td>02/07/2017</td>\n",
       "      <td>01/25/2017</td>\n",
       "      <td>WEAKNESS</td>\n",
       "      <td>PLEURAL EFFUSION, NOT ELSEWHERE CLASSIFIED</td>\n",
       "    </tr>\n",
       "    <tr>\n",
       "      <th>1</th>\n",
       "      <td>Control</td>\n",
       "      <td>24Mar2017</td>\n",
       "      <td>28Mar2017</td>\n",
       "      <td>03/28/2017</td>\n",
       "      <td>03/25/2017</td>\n",
       "      <td>NaN</td>\n",
       "      <td>ROGERS DEBRA</td>\n",
       "      <td>Automated</td>\n",
       "      <td>03/19/2017</td>\n",
       "      <td>03/24/2017</td>\n",
       "      <td>...</td>\n",
       "      <td>1.0</td>\n",
       "      <td>0.0</td>\n",
       "      <td>0.0</td>\n",
       "      <td>NaN</td>\n",
       "      <td>66204.0</td>\n",
       "      <td>03/26/2017</td>\n",
       "      <td>04/20/2017</td>\n",
       "      <td>04/12/2017</td>\n",
       "      <td>HEART FAILURE, UNSPECIFIED</td>\n",
       "      <td>NaN</td>\n",
       "    </tr>\n",
       "    <tr>\n",
       "      <th>2</th>\n",
       "      <td>Intervention</td>\n",
       "      <td>10Mar2017</td>\n",
       "      <td>14Mar2017</td>\n",
       "      <td>03/14/2017</td>\n",
       "      <td>03/11/2017</td>\n",
       "      <td>03/14/2017</td>\n",
       "      <td>WARREN BRETT</td>\n",
       "      <td>Manual</td>\n",
       "      <td>02/13/2017</td>\n",
       "      <td>03/09/2017</td>\n",
       "      <td>...</td>\n",
       "      <td>0.0</td>\n",
       "      <td>0.0</td>\n",
       "      <td>0.0</td>\n",
       "      <td>INFECTIONS</td>\n",
       "      <td>64134.0</td>\n",
       "      <td>06/02/2017</td>\n",
       "      <td>NaN</td>\n",
       "      <td>NaN</td>\n",
       "      <td>ESSENTIAL (PRIMARY) HYPERTENSION</td>\n",
       "      <td>SEPSIS, UNSPECIFIED ORGANISM</td>\n",
       "    </tr>\n",
       "    <tr>\n",
       "      <th>3</th>\n",
       "      <td>Intervention</td>\n",
       "      <td>28Jun2017</td>\n",
       "      <td>30Jun2017</td>\n",
       "      <td>06/30/2017</td>\n",
       "      <td>06/24/2017</td>\n",
       "      <td>06/30/2017</td>\n",
       "      <td>WARREN BRETT</td>\n",
       "      <td>Automated</td>\n",
       "      <td>05/25/2017</td>\n",
       "      <td>06/26/2017</td>\n",
       "      <td>...</td>\n",
       "      <td>0.0</td>\n",
       "      <td>0.0</td>\n",
       "      <td>0.0</td>\n",
       "      <td>NaN</td>\n",
       "      <td>64134.0</td>\n",
       "      <td>NaN</td>\n",
       "      <td>NaN</td>\n",
       "      <td>NaN</td>\n",
       "      <td>POSTINFECTIOUS ACUTE NECROTIZING HEMORRHAGIC E...</td>\n",
       "      <td>NaN</td>\n",
       "    </tr>\n",
       "    <tr>\n",
       "      <th>4</th>\n",
       "      <td>Alternate</td>\n",
       "      <td>10Mar2017</td>\n",
       "      <td>15Mar2017</td>\n",
       "      <td>03/15/2017</td>\n",
       "      <td>03/11/2017</td>\n",
       "      <td>NaN</td>\n",
       "      <td>FAIRBANKS KATHERINE</td>\n",
       "      <td>Automated</td>\n",
       "      <td>03/05/2017</td>\n",
       "      <td>03/09/2017</td>\n",
       "      <td>...</td>\n",
       "      <td>0.0</td>\n",
       "      <td>1.0</td>\n",
       "      <td>0.0</td>\n",
       "      <td>NaN</td>\n",
       "      <td>53213.0</td>\n",
       "      <td>04/03/2017</td>\n",
       "      <td>03/16/2017</td>\n",
       "      <td>03/23/2017</td>\n",
       "      <td>BALANITIS</td>\n",
       "      <td>NaN</td>\n",
       "    </tr>\n",
       "  </tbody>\n",
       "</table>\n",
       "<p>5 rows × 36 columns</p>\n",
       "</div>"
      ],
      "text/plain": [
       "          Group Referral_Date Enrolled_Date First_in_home_visit    IHV_week  \\\n",
       "0  Intervention     17Jan2017     24Jan2017          01/24/2017  01/21/2017   \n",
       "1       Control     24Mar2017     28Mar2017          03/28/2017  03/25/2017   \n",
       "2  Intervention     10Mar2017     14Mar2017          03/14/2017  03/11/2017   \n",
       "3  Intervention     28Jun2017     30Jun2017          06/30/2017  06/24/2017   \n",
       "4     Alternate     10Mar2017     15Mar2017          03/15/2017  03/11/2017   \n",
       "\n",
       "  Med_rec_visit_date                   CM referral_source  admit_date  \\\n",
       "0         01/24/2017  FAIRBANKS KATHERINE       Automated  12/16/2016   \n",
       "1                NaN         ROGERS DEBRA       Automated  03/19/2017   \n",
       "2         03/14/2017         WARREN BRETT          Manual  02/13/2017   \n",
       "3         06/30/2017         WARREN BRETT       Automated  05/25/2017   \n",
       "4                NaN  FAIRBANKS KATHERINE       Automated  03/05/2017   \n",
       "\n",
       "  Discharge_Date                     ...                     CV_CHF DIABETES  \\\n",
       "0     01/13/2017                     ...                        1.0      1.0   \n",
       "1     03/24/2017                     ...                        1.0      0.0   \n",
       "2     03/09/2017                     ...                        0.0      0.0   \n",
       "3     06/26/2017                     ...                        0.0      0.0   \n",
       "4     03/09/2017                     ...                        0.0      1.0   \n",
       "\n",
       "   RES_COPD  Readmit_MCC CURRENT_ZIP_CD  ER_Visit_date  PCP_Visit_date  \\\n",
       "0       0.0  RESPIRATORY        53402.0            NaN      02/07/2017   \n",
       "1       0.0          NaN        66204.0     03/26/2017      04/20/2017   \n",
       "2       0.0   INFECTIONS        64134.0     06/02/2017             NaN   \n",
       "3       0.0          NaN        64134.0            NaN             NaN   \n",
       "4       0.0          NaN        53213.0     04/03/2017      03/16/2017   \n",
       "\n",
       "   Specialist_Visit_date                                    Admit_diag_desc  \\\n",
       "0             01/25/2017                                           WEAKNESS   \n",
       "1             04/12/2017                         HEART FAILURE, UNSPECIFIED   \n",
       "2                    NaN                   ESSENTIAL (PRIMARY) HYPERTENSION   \n",
       "3                    NaN  POSTINFECTIOUS ACUTE NECROTIZING HEMORRHAGIC E...   \n",
       "4             03/23/2017                                          BALANITIS   \n",
       "\n",
       "                            Readmit_diag_desc  \n",
       "0  PLEURAL EFFUSION, NOT ELSEWHERE CLASSIFIED  \n",
       "1                                         NaN  \n",
       "2                SEPSIS, UNSPECIFIED ORGANISM  \n",
       "3                                         NaN  \n",
       "4                                         NaN  \n",
       "\n",
       "[5 rows x 36 columns]"
      ]
     },
     "execution_count": 14,
     "metadata": {},
     "output_type": "execute_result"
    }
   ],
   "source": [
    "data = pd.read_csv(\"data/med_rec_data.csv\")\n",
    "data.head()"
   ]
  },
  {
   "cell_type": "code",
   "execution_count": 35,
   "metadata": {
    "collapsed": false
   },
   "outputs": [
    {
     "data": {
      "text/plain": [
       "192.50644397685429"
      ]
     },
     "execution_count": 35,
     "metadata": {},
     "output_type": "execute_result"
    }
   ],
   "source": [
    "data['score'].mean()"
   ]
  },
  {
   "cell_type": "code",
   "execution_count": 39,
   "metadata": {
    "collapsed": false
   },
   "outputs": [
    {
     "name": "stdout",
     "output_type": "stream",
     "text": [
      "[[11 12 13 14]\n",
      " [21 22 23 24]\n",
      " [31 32 33 34]\n",
      " [41 42 43 44]]\n"
     ]
    }
   ],
   "source": [
    "row = np.array([1, 2, 3, 4])\n",
    "col = np.array([[10], [20], [30], [40]])\n",
    "print(row+col)"
   ]
  },
  {
   "cell_type": "code",
   "execution_count": null,
   "metadata": {
    "collapsed": true
   },
   "outputs": [],
   "source": []
  }
 ],
 "metadata": {
  "kernelspec": {
   "display_name": "Python 2",
   "language": "python",
   "name": "python2"
  },
  "language_info": {
   "codemirror_mode": {
    "name": "ipython",
    "version": 2
   },
   "file_extension": ".py",
   "mimetype": "text/x-python",
   "name": "python",
   "nbconvert_exporter": "python",
   "pygments_lexer": "ipython2",
   "version": "2.7.10"
  }
 },
 "nbformat": 4,
 "nbformat_minor": 2
}
